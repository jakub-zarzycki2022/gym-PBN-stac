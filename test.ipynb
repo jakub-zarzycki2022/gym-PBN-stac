{
 "cells": [
  {
   "cell_type": "code",
   "execution_count": 1,
   "outputs": [],
   "source": [
    "from gym_PBN.envs.pbn_bang_env import PBNBangEnv"
   ],
   "metadata": {
    "collapsed": false
   }
  },
  {
   "cell_type": "code",
   "execution_count": 2,
   "outputs": [
    {
     "name": "stdout",
     "output_type": "stream",
     "text": [
      "WARNING! CUDA is not available, falling back to CPU simulation\n",
      "WARNING! CUDA is not available, falling back to CPU simulation\n",
      "[[[True, False, True, False, False, False]]]\n",
      "[[True, False, True, False, False, False]]\n",
      "setting 100\n",
      "\n",
      "hello\n",
      "\n",
      "THERE IS NO VALID SOURCE ATTRACTOR\n"
     ]
    }
   ],
   "source": [
    "env = PBNBangEnv('example.assa', input_nodes=[], forbidden_nodes=[], target_nodes=[], target_values=[], format='assa', initial_values=[])"
   ],
   "metadata": {
    "collapsed": false
   }
  },
  {
   "cell_type": "code",
   "execution_count": 3,
   "outputs": [
    {
     "name": "stdout",
     "output_type": "stream",
     "text": [
      "da []\n",
      "ta [[True, False, True, False, False, False]]\n",
      "state = [True, False, True, False, False, False]\n",
      "node count = 6\n",
      "hb: [True, False, True, False, False, False]\n"
     ]
    },
    {
     "data": {
      "text/plain": "((True, False, True, False, False, False),\n {'observation_idx': 40, 'observation_di ct': [1, 0, 1, 0, 0, 0]})"
     },
     "execution_count": 3,
     "metadata": {},
     "output_type": "execute_result"
    }
   ],
   "source": [
    "env.reset()"
   ],
   "metadata": {
    "collapsed": false
   }
  },
  {
   "cell_type": "code",
   "execution_count": 5,
   "outputs": [
    {
     "name": "stdout",
     "output_type": "stream",
     "text": [
      "WARNING! CUDA is not available, falling back to CPU simulation\n"
     ]
    },
    {
     "ename": "TypeError",
     "evalue": "int() argument must be a string, a bytes-like object or a real number, not 'list'",
     "output_type": "error",
     "traceback": [
      "\u001B[0;31m---------------------------------------------------------------------------\u001B[0m",
      "\u001B[0;31mTypeError\u001B[0m                                 Traceback (most recent call last)",
      "Cell \u001B[0;32mIn[5], line 1\u001B[0m\n\u001B[0;32m----> 1\u001B[0m \u001B[43menv\u001B[49m\u001B[38;5;241;43m.\u001B[39;49m\u001B[43mstep\u001B[49m\u001B[43m(\u001B[49m\u001B[43m[\u001B[49m\u001B[43m]\u001B[49m\n\u001B[1;32m      2\u001B[0m \u001B[43m)\u001B[49m\n",
      "File \u001B[0;32m~/project/pbn/gym-PBN/gym_PBN/envs/pbn_bang_env.py:110\u001B[0m, in \u001B[0;36mPBNBangEnv.step\u001B[0;34m(self, actions, force, perturbation_prob)\u001B[0m\n\u001B[1;32m    108\u001B[0m \u001B[38;5;28mself\u001B[39m\u001B[38;5;241m.\u001B[39mpbn\u001B[38;5;241m.\u001B[39msimple_steps(n_steps\u001B[38;5;241m=\u001B[39m\u001B[38;5;241m1\u001B[39m, actions\u001B[38;5;241m=\u001B[39mactions)\n\u001B[1;32m    109\u001B[0m observation_bool \u001B[38;5;241m=\u001B[39m \u001B[38;5;28mself\u001B[39m\u001B[38;5;241m.\u001B[39mpbn\u001B[38;5;241m.\u001B[39mhistory_bool[\u001B[38;5;241m-\u001B[39m\u001B[38;5;241m1\u001B[39m]\n\u001B[0;32m--> 110\u001B[0m observation \u001B[38;5;241m=\u001B[39m [[\u001B[38;5;28mint\u001B[39m(x) \u001B[38;5;28;01mfor\u001B[39;00m x \u001B[38;5;129;01min\u001B[39;00m at] \u001B[38;5;28;01mfor\u001B[39;00m at \u001B[38;5;129;01min\u001B[39;00m observation_bool]\n\u001B[1;32m    112\u001B[0m \u001B[38;5;28mself\u001B[39m\u001B[38;5;241m.\u001B[39mpbn\u001B[38;5;241m.\u001B[39m_history \u001B[38;5;241m=\u001B[39m np\u001B[38;5;241m.\u001B[39marray(observation_bool \u001B[38;5;241m*\u001B[39m \u001B[38;5;28mself\u001B[39m\u001B[38;5;241m.\u001B[39mpbn\u001B[38;5;241m.\u001B[39m_n_parallel)\u001B[38;5;241m.\u001B[39mreshape(\n\u001B[1;32m    113\u001B[0m     (\u001B[38;5;241m1\u001B[39m, \u001B[38;5;28mself\u001B[39m\u001B[38;5;241m.\u001B[39mpbn\u001B[38;5;241m.\u001B[39m_n_parallel, \u001B[38;5;28mself\u001B[39m\u001B[38;5;241m.\u001B[39mpbn\u001B[38;5;241m.\u001B[39mstate_size)\n\u001B[1;32m    114\u001B[0m )\n\u001B[1;32m    116\u001B[0m \u001B[38;5;28mself\u001B[39m\u001B[38;5;241m.\u001B[39mpbn\u001B[38;5;241m.\u001B[39msimple_steps(n_steps\u001B[38;5;241m=\u001B[39m\u001B[38;5;241m1\u001B[39m, actions\u001B[38;5;241m=\u001B[39mactions)\n",
      "File \u001B[0;32m~/project/pbn/gym-PBN/gym_PBN/envs/pbn_bang_env.py:110\u001B[0m, in \u001B[0;36m<listcomp>\u001B[0;34m(.0)\u001B[0m\n\u001B[1;32m    108\u001B[0m \u001B[38;5;28mself\u001B[39m\u001B[38;5;241m.\u001B[39mpbn\u001B[38;5;241m.\u001B[39msimple_steps(n_steps\u001B[38;5;241m=\u001B[39m\u001B[38;5;241m1\u001B[39m, actions\u001B[38;5;241m=\u001B[39mactions)\n\u001B[1;32m    109\u001B[0m observation_bool \u001B[38;5;241m=\u001B[39m \u001B[38;5;28mself\u001B[39m\u001B[38;5;241m.\u001B[39mpbn\u001B[38;5;241m.\u001B[39mhistory_bool[\u001B[38;5;241m-\u001B[39m\u001B[38;5;241m1\u001B[39m]\n\u001B[0;32m--> 110\u001B[0m observation \u001B[38;5;241m=\u001B[39m [[\u001B[38;5;28mint\u001B[39m(x) \u001B[38;5;28;01mfor\u001B[39;00m x \u001B[38;5;129;01min\u001B[39;00m at] \u001B[38;5;28;01mfor\u001B[39;00m at \u001B[38;5;129;01min\u001B[39;00m observation_bool]\n\u001B[1;32m    112\u001B[0m \u001B[38;5;28mself\u001B[39m\u001B[38;5;241m.\u001B[39mpbn\u001B[38;5;241m.\u001B[39m_history \u001B[38;5;241m=\u001B[39m np\u001B[38;5;241m.\u001B[39marray(observation_bool \u001B[38;5;241m*\u001B[39m \u001B[38;5;28mself\u001B[39m\u001B[38;5;241m.\u001B[39mpbn\u001B[38;5;241m.\u001B[39m_n_parallel)\u001B[38;5;241m.\u001B[39mreshape(\n\u001B[1;32m    113\u001B[0m     (\u001B[38;5;241m1\u001B[39m, \u001B[38;5;28mself\u001B[39m\u001B[38;5;241m.\u001B[39mpbn\u001B[38;5;241m.\u001B[39m_n_parallel, \u001B[38;5;28mself\u001B[39m\u001B[38;5;241m.\u001B[39mpbn\u001B[38;5;241m.\u001B[39mstate_size)\n\u001B[1;32m    114\u001B[0m )\n\u001B[1;32m    116\u001B[0m \u001B[38;5;28mself\u001B[39m\u001B[38;5;241m.\u001B[39mpbn\u001B[38;5;241m.\u001B[39msimple_steps(n_steps\u001B[38;5;241m=\u001B[39m\u001B[38;5;241m1\u001B[39m, actions\u001B[38;5;241m=\u001B[39mactions)\n",
      "File \u001B[0;32m~/project/pbn/gym-PBN/gym_PBN/envs/pbn_bang_env.py:110\u001B[0m, in \u001B[0;36m<listcomp>\u001B[0;34m(.0)\u001B[0m\n\u001B[1;32m    108\u001B[0m \u001B[38;5;28mself\u001B[39m\u001B[38;5;241m.\u001B[39mpbn\u001B[38;5;241m.\u001B[39msimple_steps(n_steps\u001B[38;5;241m=\u001B[39m\u001B[38;5;241m1\u001B[39m, actions\u001B[38;5;241m=\u001B[39mactions)\n\u001B[1;32m    109\u001B[0m observation_bool \u001B[38;5;241m=\u001B[39m \u001B[38;5;28mself\u001B[39m\u001B[38;5;241m.\u001B[39mpbn\u001B[38;5;241m.\u001B[39mhistory_bool[\u001B[38;5;241m-\u001B[39m\u001B[38;5;241m1\u001B[39m]\n\u001B[0;32m--> 110\u001B[0m observation \u001B[38;5;241m=\u001B[39m [[\u001B[38;5;28;43mint\u001B[39;49m\u001B[43m(\u001B[49m\u001B[43mx\u001B[49m\u001B[43m)\u001B[49m \u001B[38;5;28;01mfor\u001B[39;00m x \u001B[38;5;129;01min\u001B[39;00m at] \u001B[38;5;28;01mfor\u001B[39;00m at \u001B[38;5;129;01min\u001B[39;00m observation_bool]\n\u001B[1;32m    112\u001B[0m \u001B[38;5;28mself\u001B[39m\u001B[38;5;241m.\u001B[39mpbn\u001B[38;5;241m.\u001B[39m_history \u001B[38;5;241m=\u001B[39m np\u001B[38;5;241m.\u001B[39marray(observation_bool \u001B[38;5;241m*\u001B[39m \u001B[38;5;28mself\u001B[39m\u001B[38;5;241m.\u001B[39mpbn\u001B[38;5;241m.\u001B[39m_n_parallel)\u001B[38;5;241m.\u001B[39mreshape(\n\u001B[1;32m    113\u001B[0m     (\u001B[38;5;241m1\u001B[39m, \u001B[38;5;28mself\u001B[39m\u001B[38;5;241m.\u001B[39mpbn\u001B[38;5;241m.\u001B[39m_n_parallel, \u001B[38;5;28mself\u001B[39m\u001B[38;5;241m.\u001B[39mpbn\u001B[38;5;241m.\u001B[39mstate_size)\n\u001B[1;32m    114\u001B[0m )\n\u001B[1;32m    116\u001B[0m \u001B[38;5;28mself\u001B[39m\u001B[38;5;241m.\u001B[39mpbn\u001B[38;5;241m.\u001B[39msimple_steps(n_steps\u001B[38;5;241m=\u001B[39m\u001B[38;5;241m1\u001B[39m, actions\u001B[38;5;241m=\u001B[39mactions)\n",
      "\u001B[0;31mTypeError\u001B[0m: int() argument must be a string, a bytes-like object or a real number, not 'list'"
     ]
    }
   ],
   "source": [
    "env.step([])"
   ],
   "metadata": {
    "collapsed": false
   }
  }
 ],
 "metadata": {
  "kernelspec": {
   "display_name": "Python 3",
   "language": "python",
   "name": "python3"
  },
  "language_info": {
   "codemirror_mode": {
    "name": "ipython",
    "version": 2
   },
   "file_extension": ".py",
   "mimetype": "text/x-python",
   "name": "python",
   "nbconvert_exporter": "python",
   "pygments_lexer": "ipython2",
   "version": "2.7.6"
  }
 },
 "nbformat": 4,
 "nbformat_minor": 0
}
